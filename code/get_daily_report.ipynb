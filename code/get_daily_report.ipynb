{
 "cells": [
  {
   "cell_type": "code",
   "execution_count": 1,
   "metadata": {},
   "outputs": [],
   "source": [
    "import requests\n",
    "from bs4 import BeautifulSoup\n",
    "\n",
    "import pandas as pd"
   ]
  },
  {
   "cell_type": "code",
   "execution_count": 2,
   "metadata": {},
   "outputs": [],
   "source": [
    "url = \"http://datacenter.mee.gov.cn/aqiweb2/\"\n",
    "raw_html = requests.get(url).content\n",
    "soup = BeautifulSoup(raw_html, \"html.parser\")\n",
    "\n",
    "content = soup.find(\"tbody\", attrs={\"id\": \"legend_02_table\"}).find_all(\"tr\")"
   ]
  },
  {
   "cell_type": "code",
   "execution_count": 10,
   "metadata": {},
   "outputs": [],
   "source": [
    "data_list = []\n",
    "for i in content:\n",
    "    \n",
    "    info = i.attrs[\"onclick\"].replace(\"openWin1\", \"\").replace(\"(\", \"\").replace(\")\", \"\").replace(\"'\",\"\").split(\",\")\n",
    "#    print(info)\n",
    "    name_1 = info[0]\n",
    "    day = info[1]\n",
    "    hour = info[2]\n",
    "    \n",
    "    tds = i.find_all(\"td\")\n",
    "#    print(tds)\n",
    "    name_2 = tds[0].text\n",
    "    aqi = tds[1].text\n",
    "    quality = tds[2].text\n",
    "    main_pollutant = tds[3].text.strip()\n",
    "\n",
    "        \n",
    "    info_dict = {\n",
    "        \"name_1\" : name_1,\n",
    "        \"day\" : day,\n",
    "        \"hour\" : hour,\n",
    "        \"name_2\" : name_2,\n",
    "        \"aqi\" : aqi,\n",
    "        \"main_pollutant\" : main_pollutant\n",
    "        }\n",
    "    \n",
    "    data_list.append(info_dict)"
   ]
  },
  {
   "cell_type": "code",
   "execution_count": 14,
   "metadata": {},
   "outputs": [],
   "source": [
    "df = pd.DataFrame(data_list)\n",
    "\n",
    "filename = \"/root/air_\" + df.day[0] + \".csv\""
   ]
  },
  {
   "cell_type": "code",
   "execution_count": 12,
   "metadata": {},
   "outputs": [],
   "source": [
    "df.to_csv(filename, index = False)"
   ]
  }
 ],
 "metadata": {
  "kernelspec": {
   "display_name": "Python 3",
   "language": "python",
   "name": "python3"
  },
  "language_info": {
   "codemirror_mode": {
    "name": "ipython",
    "version": 3
   },
   "file_extension": ".py",
   "mimetype": "text/x-python",
   "name": "python",
   "nbconvert_exporter": "python",
   "pygments_lexer": "ipython3",
   "version": "3.6.5"
  }
 },
 "nbformat": 4,
 "nbformat_minor": 2
}
